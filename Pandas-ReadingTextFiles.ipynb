{
 "cells": [
  {
   "cell_type": "markdown",
   "metadata": {},
   "source": [
    "## Dan's Notes: Pandas-Reading Text Files\n",
    "\n",
    "©2019-2020 Daniel R. Buskirk<br/>\n",
    "danbuskirk1729@gmail.com<br/>\n"
   ]
  },
  {
   "cell_type": "markdown",
   "metadata": {},
   "source": [
    "## Table of Contents\n",
    "1. [Introduction](#introduction)\n",
    "2. [Imports](#imports)\n",
    "3. [Reading Text Files](#readingtextfiles)\n",
    " * [read_csv()](#read_csv)\n",
    " * [read_excel()](#read_excel)\n",
    "3. [Reading Fixed-Width Data](#readingfixedwidthdata)\n",
    "7. [Appendix: Data and Execution Notes](#dataandexecutionnotes)"
   ]
  },
  {
   "cell_type": "markdown",
   "metadata": {
    "collapsed": true
   },
   "source": [
    "<a name=\"introduction\"></a>\n",
    "### Introduction"
   ]
  },
  {
   "cell_type": "markdown",
   "metadata": {},
   "source": [
    "Much important data is available in text files and Excel xlsx files. While simple and not particularly efficient for large amounts of data, text files have the advantage of being easy to work with and almost universally supported among data and analytic tools and applications."
   ]
  },
  {
   "cell_type": "markdown",
   "metadata": {},
   "source": [
    "<a name=\"imports\"></a>\n",
    "### Imports"
   ]
  },
  {
   "cell_type": "code",
   "execution_count": 17,
   "metadata": {},
   "outputs": [],
   "source": [
    "import pandas as pd\n"
   ]
  },
  {
   "cell_type": "markdown",
   "metadata": {},
   "source": [
    "<a name=\"readingtextfiles\"></a>\n",
    "## Reading Text Files"
   ]
  },
  {
   "cell_type": "markdown",
   "metadata": {},
   "source": [
    "<a name=\"read_csv\"></a>\n",
    "#### read_csv()"
   ]
  },
  {
   "cell_type": "markdown",
   "metadata": {},
   "source": [
    "Many text data files use the \"csv\" format, which stands for \"comma-separated values\". The read_csv() function reads those files, but can also read files that use characters other than a comma to separate value. Some csv files use the first line of the file to specify the column headings, while others do not. By default, the read_csv() method will try to infer on its won if the first line represents column heading or not."
   ]
  },
  {
   "cell_type": "code",
   "execution_count": 18,
   "metadata": {},
   "outputs": [],
   "source": [
    "df=pd.read_csv(\"../data/population_data_unpivot.csv\")\n",
    "\n"
   ]
  },
  {
   "cell_type": "code",
   "execution_count": 19,
   "metadata": {},
   "outputs": [
    {
     "data": {
      "text/plain": [
       "Unnamed: 0             int64\n",
       "Country or Region     object\n",
       "Year                   int64\n",
       "Population           float64\n",
       "dtype: object"
      ]
     },
     "execution_count": 19,
     "metadata": {},
     "output_type": "execute_result"
    }
   ],
   "source": [
    "df.dtypes"
   ]
  },
  {
   "cell_type": "markdown",
   "metadata": {},
   "source": [
    "By default, read_csv will try to guess the delimiter that your file uses to separate data from different columns within a row. However, you can explicitly declare the separator if need be. "
   ]
  },
  {
   "cell_type": "code",
   "execution_count": 20,
   "metadata": {},
   "outputs": [],
   "source": [
    "df=pd.read_csv(\"../data/population_data_unpivot.csv\", sep=\",\")"
   ]
  },
  {
   "cell_type": "markdown",
   "metadata": {},
   "source": [
    "In the following example, there are no column headings in the file, but read_csv() will assume the first row contains column names."
   ]
  },
  {
   "cell_type": "code",
   "execution_count": 21,
   "metadata": {},
   "outputs": [
    {
     "data": {
      "text/html": [
       "<div>\n",
       "<style scoped>\n",
       "    .dataframe tbody tr th:only-of-type {\n",
       "        vertical-align: middle;\n",
       "    }\n",
       "\n",
       "    .dataframe tbody tr th {\n",
       "        vertical-align: top;\n",
       "    }\n",
       "\n",
       "    .dataframe thead th {\n",
       "        text-align: right;\n",
       "    }\n",
       "</style>\n",
       "<table border=\"1\" class=\"dataframe\">\n",
       "  <thead>\n",
       "    <tr style=\"text-align: right;\">\n",
       "      <th></th>\n",
       "      <th>1</th>\n",
       "      <th>Afghanistan</th>\n",
       "      <th>1800</th>\n",
       "      <th>3280000.0</th>\n",
       "    </tr>\n",
       "  </thead>\n",
       "  <tbody>\n",
       "    <tr>\n",
       "      <th>0</th>\n",
       "      <td>3</td>\n",
       "      <td>Albania</td>\n",
       "      <td>1800</td>\n",
       "      <td>410445.0</td>\n",
       "    </tr>\n",
       "    <tr>\n",
       "      <th>1</th>\n",
       "      <td>4</td>\n",
       "      <td>Algeria</td>\n",
       "      <td>1800</td>\n",
       "      <td>2503218.0</td>\n",
       "    </tr>\n",
       "    <tr>\n",
       "      <th>2</th>\n",
       "      <td>5</td>\n",
       "      <td>American Samoa</td>\n",
       "      <td>1800</td>\n",
       "      <td>8170.0</td>\n",
       "    </tr>\n",
       "    <tr>\n",
       "      <th>3</th>\n",
       "      <td>6</td>\n",
       "      <td>Andorra</td>\n",
       "      <td>1800</td>\n",
       "      <td>2654.0</td>\n",
       "    </tr>\n",
       "    <tr>\n",
       "      <th>4</th>\n",
       "      <td>7</td>\n",
       "      <td>Angola</td>\n",
       "      <td>1800</td>\n",
       "      <td>1567028.0</td>\n",
       "    </tr>\n",
       "  </tbody>\n",
       "</table>\n",
       "</div>"
      ],
      "text/plain": [
       "   1     Afghanistan  1800  3280000.0\n",
       "0  3         Albania  1800   410445.0\n",
       "1  4         Algeria  1800  2503218.0\n",
       "2  5  American Samoa  1800     8170.0\n",
       "3  6         Andorra  1800     2654.0\n",
       "4  7          Angola  1800  1567028.0"
      ]
     },
     "execution_count": 21,
     "metadata": {},
     "output_type": "execute_result"
    }
   ],
   "source": [
    "df1=pd.read_csv(\"../data/population_data_unpivot_no_column_names.csv\")\n",
    "df1.head()"
   ]
  },
  {
   "cell_type": "markdown",
   "metadata": {},
   "source": [
    "We can explitly tell read_csv() that there are not column names, in which case we could add them later."
   ]
  },
  {
   "cell_type": "code",
   "execution_count": 22,
   "metadata": {},
   "outputs": [
    {
     "data": {
      "text/html": [
       "<div>\n",
       "<style scoped>\n",
       "    .dataframe tbody tr th:only-of-type {\n",
       "        vertical-align: middle;\n",
       "    }\n",
       "\n",
       "    .dataframe tbody tr th {\n",
       "        vertical-align: top;\n",
       "    }\n",
       "\n",
       "    .dataframe thead th {\n",
       "        text-align: right;\n",
       "    }\n",
       "</style>\n",
       "<table border=\"1\" class=\"dataframe\">\n",
       "  <thead>\n",
       "    <tr style=\"text-align: right;\">\n",
       "      <th></th>\n",
       "      <th>0</th>\n",
       "      <th>1</th>\n",
       "      <th>2</th>\n",
       "      <th>3</th>\n",
       "    </tr>\n",
       "  </thead>\n",
       "  <tbody>\n",
       "    <tr>\n",
       "      <th>0</th>\n",
       "      <td>1</td>\n",
       "      <td>Afghanistan</td>\n",
       "      <td>1800</td>\n",
       "      <td>3280000.0</td>\n",
       "    </tr>\n",
       "    <tr>\n",
       "      <th>1</th>\n",
       "      <td>3</td>\n",
       "      <td>Albania</td>\n",
       "      <td>1800</td>\n",
       "      <td>410445.0</td>\n",
       "    </tr>\n",
       "    <tr>\n",
       "      <th>2</th>\n",
       "      <td>4</td>\n",
       "      <td>Algeria</td>\n",
       "      <td>1800</td>\n",
       "      <td>2503218.0</td>\n",
       "    </tr>\n",
       "    <tr>\n",
       "      <th>3</th>\n",
       "      <td>5</td>\n",
       "      <td>American Samoa</td>\n",
       "      <td>1800</td>\n",
       "      <td>8170.0</td>\n",
       "    </tr>\n",
       "    <tr>\n",
       "      <th>4</th>\n",
       "      <td>6</td>\n",
       "      <td>Andorra</td>\n",
       "      <td>1800</td>\n",
       "      <td>2654.0</td>\n",
       "    </tr>\n",
       "  </tbody>\n",
       "</table>\n",
       "</div>"
      ],
      "text/plain": [
       "   0               1     2          3\n",
       "0  1     Afghanistan  1800  3280000.0\n",
       "1  3         Albania  1800   410445.0\n",
       "2  4         Algeria  1800  2503218.0\n",
       "3  5  American Samoa  1800     8170.0\n",
       "4  6         Andorra  1800     2654.0"
      ]
     },
     "execution_count": 22,
     "metadata": {},
     "output_type": "execute_result"
    }
   ],
   "source": [
    "df1=pd.read_csv(\"../data/population_data_unpivot_no_column_names.csv\", header=None)\n",
    "df1.head()\n"
   ]
  },
  {
   "cell_type": "markdown",
   "metadata": {},
   "source": [
    "A second alternative is to specify the column names at the time we do the read. In this case the optional parameter header=None is not necessary, but it won't hurt either."
   ]
  },
  {
   "cell_type": "code",
   "execution_count": 23,
   "metadata": {},
   "outputs": [
    {
     "data": {
      "text/html": [
       "<div>\n",
       "<style scoped>\n",
       "    .dataframe tbody tr th:only-of-type {\n",
       "        vertical-align: middle;\n",
       "    }\n",
       "\n",
       "    .dataframe tbody tr th {\n",
       "        vertical-align: top;\n",
       "    }\n",
       "\n",
       "    .dataframe thead th {\n",
       "        text-align: right;\n",
       "    }\n",
       "</style>\n",
       "<table border=\"1\" class=\"dataframe\">\n",
       "  <thead>\n",
       "    <tr style=\"text-align: right;\">\n",
       "      <th></th>\n",
       "      <th>index</th>\n",
       "      <th>Country or Region</th>\n",
       "      <th>Year</th>\n",
       "      <th>Population</th>\n",
       "    </tr>\n",
       "  </thead>\n",
       "  <tbody>\n",
       "    <tr>\n",
       "      <th>0</th>\n",
       "      <td>1</td>\n",
       "      <td>Afghanistan</td>\n",
       "      <td>1800</td>\n",
       "      <td>3280000.0</td>\n",
       "    </tr>\n",
       "    <tr>\n",
       "      <th>1</th>\n",
       "      <td>3</td>\n",
       "      <td>Albania</td>\n",
       "      <td>1800</td>\n",
       "      <td>410445.0</td>\n",
       "    </tr>\n",
       "    <tr>\n",
       "      <th>2</th>\n",
       "      <td>4</td>\n",
       "      <td>Algeria</td>\n",
       "      <td>1800</td>\n",
       "      <td>2503218.0</td>\n",
       "    </tr>\n",
       "    <tr>\n",
       "      <th>3</th>\n",
       "      <td>5</td>\n",
       "      <td>American Samoa</td>\n",
       "      <td>1800</td>\n",
       "      <td>8170.0</td>\n",
       "    </tr>\n",
       "    <tr>\n",
       "      <th>4</th>\n",
       "      <td>6</td>\n",
       "      <td>Andorra</td>\n",
       "      <td>1800</td>\n",
       "      <td>2654.0</td>\n",
       "    </tr>\n",
       "  </tbody>\n",
       "</table>\n",
       "</div>"
      ],
      "text/plain": [
       "   index Country or Region  Year  Population\n",
       "0      1       Afghanistan  1800   3280000.0\n",
       "1      3           Albania  1800    410445.0\n",
       "2      4           Algeria  1800   2503218.0\n",
       "3      5    American Samoa  1800      8170.0\n",
       "4      6           Andorra  1800      2654.0"
      ]
     },
     "execution_count": 23,
     "metadata": {},
     "output_type": "execute_result"
    }
   ],
   "source": [
    "df1=pd.read_csv(\"../data/population_data_unpivot_no_column_names.csv\", \n",
    "                # header=None, \n",
    "                names=[\"index\",\"Country or Region\", \"Year\", \"Population\"])\n",
    "df1.head()"
   ]
  },
  {
   "cell_type": "markdown",
   "metadata": {},
   "source": [
    "<a name=\"read_excel\"></a>\n",
    "#### read_excel()"
   ]
  },
  {
   "cell_type": "markdown",
   "metadata": {},
   "source": [
    "The pandas read_excel method reads worksheet data into a pandas DataFrame. Pandas also defines an ExcelFile object, but we will not discuss ExcelFile in this introduction. Reading row-and-column worksheet data into a pandas DataFrame is usually sufficient"
   ]
  },
  {
   "cell_type": "code",
   "execution_count": 27,
   "metadata": {},
   "outputs": [
    {
     "data": {
      "text/html": [
       "<div>\n",
       "<style scoped>\n",
       "    .dataframe tbody tr th:only-of-type {\n",
       "        vertical-align: middle;\n",
       "    }\n",
       "\n",
       "    .dataframe tbody tr th {\n",
       "        vertical-align: top;\n",
       "    }\n",
       "\n",
       "    .dataframe thead th {\n",
       "        text-align: right;\n",
       "    }\n",
       "</style>\n",
       "<table border=\"1\" class=\"dataframe\">\n",
       "  <thead>\n",
       "    <tr style=\"text-align: right;\">\n",
       "      <th></th>\n",
       "      <th>Geographical Region</th>\n",
       "      <th>Region Code</th>\n",
       "      <th>1960</th>\n",
       "      <th>1961</th>\n",
       "      <th>1962</th>\n",
       "      <th>1963</th>\n",
       "      <th>1964</th>\n",
       "      <th>1965</th>\n",
       "      <th>1966</th>\n",
       "      <th>1967</th>\n",
       "      <th>...</th>\n",
       "      <th>2006</th>\n",
       "      <th>2007</th>\n",
       "      <th>2008</th>\n",
       "      <th>2009</th>\n",
       "      <th>2010</th>\n",
       "      <th>2011</th>\n",
       "      <th>2012</th>\n",
       "      <th>2013</th>\n",
       "      <th>2014</th>\n",
       "      <th>2015</th>\n",
       "    </tr>\n",
       "  </thead>\n",
       "  <tbody>\n",
       "    <tr>\n",
       "      <th>0</th>\n",
       "      <td>Arab World</td>\n",
       "      <td>ARB</td>\n",
       "      <td>NaN</td>\n",
       "      <td>NaN</td>\n",
       "      <td>NaN</td>\n",
       "      <td>NaN</td>\n",
       "      <td>NaN</td>\n",
       "      <td>NaN</td>\n",
       "      <td>NaN</td>\n",
       "      <td>NaN</td>\n",
       "      <td>...</td>\n",
       "      <td>5492.307129</td>\n",
       "      <td>5663.743723</td>\n",
       "      <td>5875.300181</td>\n",
       "      <td>5822.968325</td>\n",
       "      <td>5956.435530</td>\n",
       "      <td>6022.467200</td>\n",
       "      <td>6215.586247</td>\n",
       "      <td>6297.873819</td>\n",
       "      <td>6340.777948</td>\n",
       "      <td>6412.342973</td>\n",
       "    </tr>\n",
       "    <tr>\n",
       "      <th>1</th>\n",
       "      <td>Caribbean small states</td>\n",
       "      <td>CSS</td>\n",
       "      <td>NaN</td>\n",
       "      <td>NaN</td>\n",
       "      <td>NaN</td>\n",
       "      <td>NaN</td>\n",
       "      <td>NaN</td>\n",
       "      <td>NaN</td>\n",
       "      <td>4773.546023</td>\n",
       "      <td>4865.101699</td>\n",
       "      <td>...</td>\n",
       "      <td>8828.317121</td>\n",
       "      <td>9053.272233</td>\n",
       "      <td>9114.577077</td>\n",
       "      <td>8733.916183</td>\n",
       "      <td>8799.589747</td>\n",
       "      <td>8834.067742</td>\n",
       "      <td>8892.133090</td>\n",
       "      <td>8984.078046</td>\n",
       "      <td>8983.808415</td>\n",
       "      <td>8954.012281</td>\n",
       "    </tr>\n",
       "    <tr>\n",
       "      <th>2</th>\n",
       "      <td>Central Europe and the Baltics</td>\n",
       "      <td>CEB</td>\n",
       "      <td>NaN</td>\n",
       "      <td>NaN</td>\n",
       "      <td>NaN</td>\n",
       "      <td>NaN</td>\n",
       "      <td>NaN</td>\n",
       "      <td>NaN</td>\n",
       "      <td>NaN</td>\n",
       "      <td>NaN</td>\n",
       "      <td>...</td>\n",
       "      <td>11436.320274</td>\n",
       "      <td>12213.441871</td>\n",
       "      <td>12720.708985</td>\n",
       "      <td>12275.218659</td>\n",
       "      <td>12557.382669</td>\n",
       "      <td>12996.253643</td>\n",
       "      <td>13100.430301</td>\n",
       "      <td>13303.019930</td>\n",
       "      <td>13722.843974</td>\n",
       "      <td>14252.611097</td>\n",
       "    </tr>\n",
       "    <tr>\n",
       "      <th>3</th>\n",
       "      <td>Early-demographic dividend</td>\n",
       "      <td>EAR</td>\n",
       "      <td>1101.826614</td>\n",
       "      <td>1121.643224</td>\n",
       "      <td>1140.619715</td>\n",
       "      <td>1171.661280</td>\n",
       "      <td>1237.904973</td>\n",
       "      <td>1275.330437</td>\n",
       "      <td>1293.297437</td>\n",
       "      <td>1329.355419</td>\n",
       "      <td>...</td>\n",
       "      <td>2597.795856</td>\n",
       "      <td>2722.794879</td>\n",
       "      <td>2783.005452</td>\n",
       "      <td>2771.690132</td>\n",
       "      <td>2908.316064</td>\n",
       "      <td>3012.097373</td>\n",
       "      <td>3078.874542</td>\n",
       "      <td>3154.665399</td>\n",
       "      <td>3228.078389</td>\n",
       "      <td>3329.342877</td>\n",
       "    </tr>\n",
       "    <tr>\n",
       "      <th>4</th>\n",
       "      <td>East Asia &amp; Pacific</td>\n",
       "      <td>EAS</td>\n",
       "      <td>1281.285682</td>\n",
       "      <td>1351.870030</td>\n",
       "      <td>1416.783681</td>\n",
       "      <td>1492.092367</td>\n",
       "      <td>1612.533027</td>\n",
       "      <td>1678.704802</td>\n",
       "      <td>1783.444587</td>\n",
       "      <td>1888.446177</td>\n",
       "      <td>...</td>\n",
       "      <td>6596.895815</td>\n",
       "      <td>6977.542004</td>\n",
       "      <td>7172.707243</td>\n",
       "      <td>7221.048150</td>\n",
       "      <td>7680.317201</td>\n",
       "      <td>7982.270143</td>\n",
       "      <td>8298.811540</td>\n",
       "      <td>8634.542307</td>\n",
       "      <td>8928.473216</td>\n",
       "      <td>9232.041338</td>\n",
       "    </tr>\n",
       "  </tbody>\n",
       "</table>\n",
       "<p>5 rows × 58 columns</p>\n",
       "</div>"
      ],
      "text/plain": [
       "              Geographical Region Region Code         1960         1961  \\\n",
       "0                      Arab World         ARB          NaN          NaN   \n",
       "1          Caribbean small states         CSS          NaN          NaN   \n",
       "2  Central Europe and the Baltics         CEB          NaN          NaN   \n",
       "3      Early-demographic dividend         EAR  1101.826614  1121.643224   \n",
       "4             East Asia & Pacific         EAS  1281.285682  1351.870030   \n",
       "\n",
       "          1962         1963         1964         1965         1966  \\\n",
       "0          NaN          NaN          NaN          NaN          NaN   \n",
       "1          NaN          NaN          NaN          NaN  4773.546023   \n",
       "2          NaN          NaN          NaN          NaN          NaN   \n",
       "3  1140.619715  1171.661280  1237.904973  1275.330437  1293.297437   \n",
       "4  1416.783681  1492.092367  1612.533027  1678.704802  1783.444587   \n",
       "\n",
       "          1967  ...          2006          2007          2008          2009  \\\n",
       "0          NaN  ...   5492.307129   5663.743723   5875.300181   5822.968325   \n",
       "1  4865.101699  ...   8828.317121   9053.272233   9114.577077   8733.916183   \n",
       "2          NaN  ...  11436.320274  12213.441871  12720.708985  12275.218659   \n",
       "3  1329.355419  ...   2597.795856   2722.794879   2783.005452   2771.690132   \n",
       "4  1888.446177  ...   6596.895815   6977.542004   7172.707243   7221.048150   \n",
       "\n",
       "           2010          2011          2012          2013          2014  \\\n",
       "0   5956.435530   6022.467200   6215.586247   6297.873819   6340.777948   \n",
       "1   8799.589747   8834.067742   8892.133090   8984.078046   8983.808415   \n",
       "2  12557.382669  12996.253643  13100.430301  13303.019930  13722.843974   \n",
       "3   2908.316064   3012.097373   3078.874542   3154.665399   3228.078389   \n",
       "4   7680.317201   7982.270143   8298.811540   8634.542307   8928.473216   \n",
       "\n",
       "           2015  \n",
       "0   6412.342973  \n",
       "1   8954.012281  \n",
       "2  14252.611097  \n",
       "3   3329.342877  \n",
       "4   9232.041338  \n",
       "\n",
       "[5 rows x 58 columns]"
      ]
     },
     "execution_count": 27,
     "metadata": {},
     "output_type": "execute_result"
    }
   ],
   "source": [
    "df1 = pd.read_excel('../data/GDP-1960-2015.xlsx', sheet_name='Data') # \"sheetname\" is deprecated\n",
    "df1.head()"
   ]
  },
  {
   "cell_type": "code",
   "execution_count": null,
   "metadata": {},
   "outputs": [],
   "source": []
  },
  {
   "cell_type": "code",
   "execution_count": null,
   "metadata": {},
   "outputs": [],
   "source": []
  },
  {
   "cell_type": "markdown",
   "metadata": {},
   "source": [
    "<a name=\"readingfixedwidthdata\"></a>\n",
    "#### Reading Fixed-Width Data"
   ]
  },
  {
   "cell_type": "markdown",
   "metadata": {},
   "source": [
    "Many blogs describe how to iterate through and parse fixed with columns, but in many cases the pandas <b>read_fwf()</b> function is far easier."
   ]
  },
  {
   "cell_type": "code",
   "execution_count": null,
   "metadata": {},
   "outputs": [],
   "source": [
    "test=pd.read_fwf(\"../data/OrderDetails.dat\")#, delimiter=' ')\n",
    "test.head()"
   ]
  },
  {
   "cell_type": "markdown",
   "metadata": {},
   "source": [
    "<a name=\"dataandexecutionnotes\"></a>\n",
    "### Data and Execution Notes"
   ]
  },
  {
   "cell_type": "code",
   "execution_count": null,
   "metadata": {},
   "outputs": [],
   "source": []
  }
 ],
 "metadata": {
  "kernelspec": {
   "display_name": "Python 3",
   "language": "python",
   "name": "python3"
  },
  "language_info": {
   "codemirror_mode": {
    "name": "ipython",
    "version": 3
   },
   "file_extension": ".py",
   "mimetype": "text/x-python",
   "name": "python",
   "nbconvert_exporter": "python",
   "pygments_lexer": "ipython3",
   "version": "3.7.0"
  }
 },
 "nbformat": 4,
 "nbformat_minor": 1
}
